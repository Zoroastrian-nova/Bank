{
 "cells": [
  {
   "cell_type": "code",
   "execution_count": null,
   "metadata": {},
   "outputs": [],
   "source": [
    "'''sh\n",
    "pip install -r requirements.txt\n",
    "cd code\n",
    "'''\n"
   ]
  },
  {
   "cell_type": "code",
   "execution_count": 1,
   "metadata": {},
   "outputs": [],
   "source": [
    "import numpy as np\n",
    "import pandas as pd\n",
    "import tensorflow as tf\n",
    "import random\n",
    "SEED = 42\n",
    "def seed_everything(seed=0):\n",
    "    random.seed(seed)\n",
    "    np.random.seed(seed)\n",
    "    tf.random.set_seed(seed)\n",
    "\n",
    "seed_everything(SEED)"
   ]
  },
  {
   "cell_type": "markdown",
   "metadata": {},
   "source": [
    "### 第一问\n",
    "银行根据中小微企业的实力、信誉对其信贷风险做出评估，然后依据信贷风险等因素来确定是否放贷及贷款额度、利率和期限等信贷策略。\n",
    "\n",
    "某银行对确定要放贷企业的贷款额度为10~100万元；年利率为4%~15%；贷款期限为1年。附件1~3分别给出了123家有信贷记录企业的相关数据、302家无信贷记录企业的相关数据和贷款利率与客户流失率关系的2019年统计数据。\n",
    "\n",
    "对附件1中123家企业的信贷风险进行量化分析，给出该银行在年度信贷总额固定时对这些企业的信贷策略。"
   ]
  },
  {
   "cell_type": "markdown",
   "metadata": {},
   "source": [
    "##### 数据处理"
   ]
  },
  {
   "cell_type": "markdown",
   "metadata": {},
   "source": [
    "##### 特征工程"
   ]
  },
  {
   "cell_type": "code",
   "execution_count": 2,
   "metadata": {},
   "outputs": [],
   "source": [
    "import load\n",
    "\n",
    "data = load.re_agg(load.get_data(num=123)).drop(['refund_in','refund_out'],axis = 1).fillna(1e-8)\n"
   ]
  },
  {
   "cell_type": "markdown",
   "metadata": {},
   "source": [
    "##### 数据集整理"
   ]
  },
  {
   "cell_type": "code",
   "execution_count": 3,
   "metadata": {},
   "outputs": [],
   "source": [
    "input_length = 12\n",
    "label_length = 1\n",
    "total_length = 36\n",
    "batch_size = 123\n",
    "input,test,label = load.get_tesors(data,input_length = input_length,label_length = label_length,total_length = total_length,batch_size = batch_size)"
   ]
  },
  {
   "cell_type": "markdown",
   "metadata": {},
   "source": [
    "##### 训练神经网络模型，预测2020年的信用等级和违约概率"
   ]
  },
  {
   "cell_type": "code",
   "execution_count": 4,
   "metadata": {},
   "outputs": [
    {
     "name": "stdout",
     "output_type": "stream",
     "text": [
      "Epoch 1/100\n",
      "1/1 [==============================] - 4s 4s/step - loss: 0.9826 - mean_absolute_error: 0.5756 - val_loss: 3.3432 - val_mean_absolute_error: 1.4310\n",
      "Epoch 2/100\n",
      "1/1 [==============================] - 0s 23ms/step - loss: 0.9790 - mean_absolute_error: 0.5803 - val_loss: 3.3356 - val_mean_absolute_error: 1.4288\n",
      "Epoch 3/100\n",
      "1/1 [==============================] - 0s 23ms/step - loss: 0.9743 - mean_absolute_error: 0.5779 - val_loss: 3.3274 - val_mean_absolute_error: 1.4267\n",
      "Epoch 4/100\n",
      "1/1 [==============================] - 0s 23ms/step - loss: 0.9696 - mean_absolute_error: 0.5778 - val_loss: 3.3181 - val_mean_absolute_error: 1.4247\n",
      "Epoch 5/100\n",
      "1/1 [==============================] - 0s 23ms/step - loss: 0.9645 - mean_absolute_error: 0.5770 - val_loss: 3.3073 - val_mean_absolute_error: 1.4226\n",
      "Epoch 6/100\n",
      "1/1 [==============================] - 0s 22ms/step - loss: 0.9587 - mean_absolute_error: 0.5759 - val_loss: 3.2950 - val_mean_absolute_error: 1.4203\n",
      "Epoch 7/100\n",
      "1/1 [==============================] - 0s 24ms/step - loss: 0.9526 - mean_absolute_error: 0.5749 - val_loss: 3.2811 - val_mean_absolute_error: 1.4176\n",
      "Epoch 8/100\n",
      "1/1 [==============================] - 0s 27ms/step - loss: 0.9460 - mean_absolute_error: 0.5744 - val_loss: 3.2656 - val_mean_absolute_error: 1.4146\n",
      "Epoch 9/100\n",
      "1/1 [==============================] - 0s 23ms/step - loss: 0.9390 - mean_absolute_error: 0.5740 - val_loss: 3.2485 - val_mean_absolute_error: 1.4111\n",
      "Epoch 10/100\n",
      "1/1 [==============================] - 0s 23ms/step - loss: 0.9314 - mean_absolute_error: 0.5733 - val_loss: 3.2298 - val_mean_absolute_error: 1.4073\n",
      "Epoch 11/100\n",
      "1/1 [==============================] - 0s 23ms/step - loss: 0.9232 - mean_absolute_error: 0.5723 - val_loss: 3.2093 - val_mean_absolute_error: 1.4031\n",
      "Epoch 12/100\n",
      "1/1 [==============================] - 0s 24ms/step - loss: 0.9145 - mean_absolute_error: 0.5719 - val_loss: 3.1869 - val_mean_absolute_error: 1.3985\n",
      "Epoch 13/100\n",
      "1/1 [==============================] - 0s 23ms/step - loss: 0.9052 - mean_absolute_error: 0.5713 - val_loss: 3.1625 - val_mean_absolute_error: 1.3936\n",
      "Epoch 14/100\n",
      "1/1 [==============================] - 0s 23ms/step - loss: 0.8953 - mean_absolute_error: 0.5707 - val_loss: 3.1361 - val_mean_absolute_error: 1.3883\n",
      "Epoch 15/100\n",
      "1/1 [==============================] - 0s 23ms/step - loss: 0.8848 - mean_absolute_error: 0.5704 - val_loss: 3.1077 - val_mean_absolute_error: 1.3827\n",
      "Epoch 16/100\n",
      "1/1 [==============================] - 0s 24ms/step - loss: 0.8735 - mean_absolute_error: 0.5706 - val_loss: 3.0772 - val_mean_absolute_error: 1.3767\n",
      "Epoch 17/100\n",
      "1/1 [==============================] - 0s 22ms/step - loss: 0.8616 - mean_absolute_error: 0.5707 - val_loss: 3.0448 - val_mean_absolute_error: 1.3703\n",
      "Epoch 18/100\n",
      "1/1 [==============================] - 0s 26ms/step - loss: 0.8490 - mean_absolute_error: 0.5705 - val_loss: 3.0105 - val_mean_absolute_error: 1.3636\n",
      "Epoch 19/100\n",
      "1/1 [==============================] - 0s 35ms/step - loss: 0.8357 - mean_absolute_error: 0.5700 - val_loss: 2.9746 - val_mean_absolute_error: 1.3565\n",
      "Epoch 20/100\n",
      "1/1 [==============================] - 0s 33ms/step - loss: 0.8217 - mean_absolute_error: 0.5691 - val_loss: 2.9371 - val_mean_absolute_error: 1.3491\n",
      "Epoch 21/100\n",
      "1/1 [==============================] - 0s 27ms/step - loss: 0.8071 - mean_absolute_error: 0.5675 - val_loss: 2.8982 - val_mean_absolute_error: 1.3413\n",
      "Epoch 22/100\n",
      "1/1 [==============================] - 0s 22ms/step - loss: 0.7918 - mean_absolute_error: 0.5652 - val_loss: 2.8579 - val_mean_absolute_error: 1.3333\n",
      "Epoch 23/100\n",
      "1/1 [==============================] - 0s 22ms/step - loss: 0.7758 - mean_absolute_error: 0.5624 - val_loss: 2.8162 - val_mean_absolute_error: 1.3250\n",
      "Epoch 24/100\n",
      "1/1 [==============================] - 0s 24ms/step - loss: 0.7593 - mean_absolute_error: 0.5592 - val_loss: 2.7731 - val_mean_absolute_error: 1.3164\n",
      "Epoch 25/100\n",
      "1/1 [==============================] - 0s 24ms/step - loss: 0.7422 - mean_absolute_error: 0.5553 - val_loss: 2.7286 - val_mean_absolute_error: 1.3074\n",
      "Epoch 26/100\n",
      "1/1 [==============================] - 0s 23ms/step - loss: 0.7247 - mean_absolute_error: 0.5508 - val_loss: 2.6826 - val_mean_absolute_error: 1.2980\n",
      "Epoch 27/100\n",
      "1/1 [==============================] - 0s 25ms/step - loss: 0.7068 - mean_absolute_error: 0.5458 - val_loss: 2.6352 - val_mean_absolute_error: 1.2881\n",
      "Epoch 28/100\n",
      "1/1 [==============================] - 0s 22ms/step - loss: 0.6885 - mean_absolute_error: 0.5403 - val_loss: 2.5864 - val_mean_absolute_error: 1.2778\n",
      "Epoch 29/100\n",
      "1/1 [==============================] - 0s 29ms/step - loss: 0.6701 - mean_absolute_error: 0.5343 - val_loss: 2.5362 - val_mean_absolute_error: 1.2670\n",
      "Epoch 30/100\n",
      "1/1 [==============================] - 0s 27ms/step - loss: 0.6514 - mean_absolute_error: 0.5278 - val_loss: 2.4847 - val_mean_absolute_error: 1.2557\n",
      "Epoch 31/100\n",
      "1/1 [==============================] - 0s 25ms/step - loss: 0.6328 - mean_absolute_error: 0.5210 - val_loss: 2.4319 - val_mean_absolute_error: 1.2439\n",
      "Epoch 32/100\n",
      "1/1 [==============================] - 0s 24ms/step - loss: 0.6142 - mean_absolute_error: 0.5139 - val_loss: 2.3782 - val_mean_absolute_error: 1.2317\n",
      "Epoch 33/100\n",
      "1/1 [==============================] - 0s 23ms/step - loss: 0.5958 - mean_absolute_error: 0.5066 - val_loss: 2.3235 - val_mean_absolute_error: 1.2191\n",
      "Epoch 34/100\n",
      "1/1 [==============================] - 0s 23ms/step - loss: 0.5777 - mean_absolute_error: 0.4990 - val_loss: 2.2682 - val_mean_absolute_error: 1.2061\n",
      "Epoch 35/100\n",
      "1/1 [==============================] - 0s 25ms/step - loss: 0.5602 - mean_absolute_error: 0.4913 - val_loss: 2.2124 - val_mean_absolute_error: 1.1926\n",
      "Epoch 36/100\n",
      "1/1 [==============================] - 0s 25ms/step - loss: 0.5432 - mean_absolute_error: 0.4835 - val_loss: 2.1563 - val_mean_absolute_error: 1.1788\n",
      "Epoch 37/100\n",
      "1/1 [==============================] - 0s 27ms/step - loss: 0.5269 - mean_absolute_error: 0.4762 - val_loss: 2.1003 - val_mean_absolute_error: 1.1653\n",
      "Epoch 38/100\n",
      "1/1 [==============================] - 0s 23ms/step - loss: 0.5114 - mean_absolute_error: 0.4689 - val_loss: 2.0445 - val_mean_absolute_error: 1.1526\n",
      "Epoch 39/100\n",
      "1/1 [==============================] - 0s 23ms/step - loss: 0.4969 - mean_absolute_error: 0.4615 - val_loss: 1.9894 - val_mean_absolute_error: 1.1397\n",
      "Epoch 40/100\n",
      "1/1 [==============================] - 0s 26ms/step - loss: 0.4835 - mean_absolute_error: 0.4542 - val_loss: 1.9351 - val_mean_absolute_error: 1.1269\n",
      "Epoch 41/100\n",
      "1/1 [==============================] - 0s 23ms/step - loss: 0.4712 - mean_absolute_error: 0.4472 - val_loss: 1.8822 - val_mean_absolute_error: 1.1141\n",
      "Epoch 42/100\n",
      "1/1 [==============================] - 0s 24ms/step - loss: 0.4602 - mean_absolute_error: 0.4402 - val_loss: 1.8309 - val_mean_absolute_error: 1.1014\n",
      "Epoch 43/100\n",
      "1/1 [==============================] - 0s 23ms/step - loss: 0.4504 - mean_absolute_error: 0.4332 - val_loss: 1.7816 - val_mean_absolute_error: 1.0888\n",
      "Epoch 44/100\n",
      "1/1 [==============================] - 0s 23ms/step - loss: 0.4419 - mean_absolute_error: 0.4262 - val_loss: 1.7345 - val_mean_absolute_error: 1.0764\n",
      "Epoch 45/100\n",
      "1/1 [==============================] - 0s 22ms/step - loss: 0.4347 - mean_absolute_error: 0.4192 - val_loss: 1.6900 - val_mean_absolute_error: 1.0644\n",
      "Epoch 46/100\n",
      "1/1 [==============================] - 0s 28ms/step - loss: 0.4287 - mean_absolute_error: 0.4121 - val_loss: 1.6484 - val_mean_absolute_error: 1.0529\n",
      "Epoch 47/100\n",
      "1/1 [==============================] - 0s 22ms/step - loss: 0.4240 - mean_absolute_error: 0.4055 - val_loss: 1.6098 - val_mean_absolute_error: 1.0418\n",
      "Epoch 48/100\n",
      "1/1 [==============================] - 0s 24ms/step - loss: 0.4203 - mean_absolute_error: 0.3994 - val_loss: 1.5743 - val_mean_absolute_error: 1.0329\n",
      "Epoch 49/100\n",
      "1/1 [==============================] - 0s 23ms/step - loss: 0.4175 - mean_absolute_error: 0.3947 - val_loss: 1.5421 - val_mean_absolute_error: 1.0253\n",
      "Epoch 50/100\n",
      "1/1 [==============================] - 0s 23ms/step - loss: 0.4155 - mean_absolute_error: 0.3963 - val_loss: 1.5133 - val_mean_absolute_error: 1.0183\n",
      "Epoch 51/100\n",
      "1/1 [==============================] - 0s 22ms/step - loss: 0.4142 - mean_absolute_error: 0.3985 - val_loss: 1.4879 - val_mean_absolute_error: 1.0119\n",
      "Epoch 52/100\n",
      "1/1 [==============================] - 0s 22ms/step - loss: 0.4132 - mean_absolute_error: 0.4002 - val_loss: 1.4660 - val_mean_absolute_error: 1.0063\n",
      "Epoch 53/100\n",
      "1/1 [==============================] - 0s 22ms/step - loss: 0.4126 - mean_absolute_error: 0.4015 - val_loss: 1.4475 - val_mean_absolute_error: 1.0015\n",
      "Epoch 54/100\n",
      "1/1 [==============================] - 0s 23ms/step - loss: 0.4121 - mean_absolute_error: 0.4029 - val_loss: 1.4324 - val_mean_absolute_error: 0.9974\n",
      "Epoch 55/100\n",
      "1/1 [==============================] - 0s 23ms/step - loss: 0.4116 - mean_absolute_error: 0.4043 - val_loss: 1.4206 - val_mean_absolute_error: 0.9942\n",
      "Epoch 56/100\n",
      "1/1 [==============================] - 0s 24ms/step - loss: 0.4110 - mean_absolute_error: 0.4057 - val_loss: 1.4120 - val_mean_absolute_error: 0.9918\n",
      "Epoch 57/100\n",
      "1/1 [==============================] - 0s 23ms/step - loss: 0.4102 - mean_absolute_error: 0.4066 - val_loss: 1.4064 - val_mean_absolute_error: 0.9902\n",
      "Epoch 58/100\n",
      "1/1 [==============================] - 0s 21ms/step - loss: 0.4092 - mean_absolute_error: 0.4070 - val_loss: 1.4035 - val_mean_absolute_error: 0.9893\n",
      "Epoch 59/100\n",
      "1/1 [==============================] - 0s 26ms/step - loss: 0.4079 - mean_absolute_error: 0.4069 - val_loss: 1.4032 - val_mean_absolute_error: 0.9891\n",
      "Epoch 60/100\n",
      "1/1 [==============================] - 0s 21ms/step - loss: 0.4064 - mean_absolute_error: 0.4065 - val_loss: 1.4050 - val_mean_absolute_error: 0.9894\n",
      "Epoch 61/100\n",
      "1/1 [==============================] - 0s 22ms/step - loss: 0.4048 - mean_absolute_error: 0.4057 - val_loss: 1.4086 - val_mean_absolute_error: 0.9902\n",
      "Epoch 62/100\n",
      "1/1 [==============================] - 0s 20ms/step - loss: 0.4029 - mean_absolute_error: 0.4047 - val_loss: 1.4138 - val_mean_absolute_error: 0.9914\n",
      "Epoch 63/100\n",
      "1/1 [==============================] - 0s 23ms/step - loss: 0.4010 - mean_absolute_error: 0.4034 - val_loss: 1.4202 - val_mean_absolute_error: 0.9930\n"
     ]
    }
   ],
   "source": [
    "CONV_WIDTH = 3\n",
    "OUT_STEPS = 1\n",
    "num_labels = label.shape[-1]\n",
    "multi_conv_model = tf.keras.Sequential([\n",
    "    # Shape [batch, time, features] => [batch, CONV_WIDTH, features]\n",
    "    tf.keras.layers.Lambda(lambda x: x[:, -CONV_WIDTH:, :]),\n",
    "    # Shape => [batch, 1, conv_units]\n",
    "    tf.keras.layers.Conv1D(256, activation='relu', kernel_size=(CONV_WIDTH)),\n",
    "\n",
    "    # Shape => [batch, 1,  out_steps*features]\n",
    "    tf.keras.layers.Dense(OUT_STEPS*num_labels,\n",
    "                          kernel_initializer=tf.initializers.zeros()),\n",
    "    # Shape => [batch, out_steps, features]\n",
    "    tf.keras.layers.Reshape([OUT_STEPS, num_labels])\n",
    "])\n",
    "\n",
    "early_stopping = tf.keras.callbacks.EarlyStopping(monitor='val_loss',\n",
    "                                                    patience=4, restore_best_weights=True,\n",
    "                                                    mode='min')\n",
    "\n",
    "lr_schedule = tf.keras.callbacks.LearningRateScheduler(\n",
    "    lambda epoch: 1e-8 * 10**(epoch / 20))\n",
    "\n",
    "multi_conv_model.compile(loss=tf.keras.losses.MeanSquaredError(),\n",
    "                optimizer=tf.keras.optimizers.Adam(),\n",
    "                metrics=[tf.keras.metrics.MeanAbsoluteError()])\n",
    "\n",
    "history = multi_conv_model.fit(\n",
    "    x=input, y = label, \n",
    "    batch_size=123, \n",
    "    epochs=100, \n",
    "    verbose=1, \n",
    "    callbacks=[early_stopping], \n",
    "    validation_split=0.3,  \n",
    "    shuffle=True, \n",
    "    class_weight=None, \n",
    "    sample_weight=None, \n",
    "    initial_epoch=0, \n",
    "    steps_per_epoch=None, \n",
    "    validation_steps=None)"
   ]
  },
  {
   "cell_type": "code",
   "execution_count": 5,
   "metadata": {},
   "outputs": [
    {
     "name": "stdout",
     "output_type": "stream",
     "text": [
      "Epoch 1/100\n",
      "4/4 [==============================] - 11s 649ms/step - loss: 2.2885 - mean_absolute_error: 1.1993 - val_loss: 3.5965 - val_mean_absolute_error: 1.5239\n",
      "Epoch 2/100\n",
      "4/4 [==============================] - 0s 50ms/step - loss: 1.4763 - mean_absolute_error: 1.0045 - val_loss: 0.9695 - val_mean_absolute_error: 0.7863\n",
      "Epoch 3/100\n",
      "4/4 [==============================] - 0s 43ms/step - loss: 0.8648 - mean_absolute_error: 0.7286 - val_loss: 1.9654 - val_mean_absolute_error: 1.0543\n",
      "Epoch 4/100\n",
      "4/4 [==============================] - 0s 41ms/step - loss: 0.6946 - mean_absolute_error: 0.6881 - val_loss: 1.7026 - val_mean_absolute_error: 1.0640\n",
      "Epoch 5/100\n",
      "4/4 [==============================] - 0s 38ms/step - loss: 0.6028 - mean_absolute_error: 0.6004 - val_loss: 1.2050 - val_mean_absolute_error: 0.8513\n",
      "Epoch 6/100\n",
      "4/4 [==============================] - 0s 33ms/step - loss: 0.5191 - mean_absolute_error: 0.5148 - val_loss: 1.9071 - val_mean_absolute_error: 1.0397\n",
      "Epoch 7/100\n",
      "4/4 [==============================] - 0s 30ms/step - loss: 0.5149 - mean_absolute_error: 0.5422 - val_loss: 1.2109 - val_mean_absolute_error: 0.8803\n",
      "Epoch 8/100\n",
      "4/4 [==============================] - 0s 28ms/step - loss: 0.4834 - mean_absolute_error: 0.5219 - val_loss: 1.8228 - val_mean_absolute_error: 1.0279\n",
      "Epoch 9/100\n",
      "4/4 [==============================] - 0s 29ms/step - loss: 0.5187 - mean_absolute_error: 0.4755 - val_loss: 1.5887 - val_mean_absolute_error: 0.9468\n",
      "Epoch 10/100\n",
      "4/4 [==============================] - 0s 25ms/step - loss: 0.4505 - mean_absolute_error: 0.5006 - val_loss: 1.1470 - val_mean_absolute_error: 0.8519\n",
      "Epoch 11/100\n",
      "4/4 [==============================] - 0s 25ms/step - loss: 0.5035 - mean_absolute_error: 0.5214 - val_loss: 1.8049 - val_mean_absolute_error: 1.0106\n",
      "Epoch 12/100\n",
      "4/4 [==============================] - 0s 29ms/step - loss: 0.4560 - mean_absolute_error: 0.4793 - val_loss: 1.7159 - val_mean_absolute_error: 0.9874\n"
     ]
    }
   ],
   "source": [
    "lstm_model = tf.keras.models.Sequential([\n",
    "  #tf.keras.layers.Lambda(lambda x: tf.expand_dims(x, axis=-1),input_shape=[None]),\n",
    "  tf.keras.layers.LSTM(\n",
    "    units = 4,\n",
    "    activation=\"tanh\",\n",
    "    recurrent_activation=\"sigmoid\",return_sequences= True),\n",
    "    tf.keras.layers.LSTM(\n",
    "    units = 16,\n",
    "    activation=\"tanh\",\n",
    "    recurrent_activation=\"sigmoid\",return_sequences= True),\n",
    "  tf.keras.layers.LSTM(\n",
    "    units = 32,\n",
    "    activation=\"tanh\",\n",
    "    recurrent_activation=\"sigmoid\",return_sequences= True),\n",
    "    tf.keras.layers.LSTM(\n",
    "    units = 64,\n",
    "    activation=\"tanh\",\n",
    "    recurrent_activation=\"sigmoid\",return_sequences= True),\n",
    "    tf.keras.layers.LSTM(\n",
    "    units = 128,\n",
    "    activation=\"tanh\",\n",
    "    recurrent_activation=\"sigmoid\"),\n",
    "  tf.keras.layers.Dense(2),\n",
    "  tf.keras.layers.Lambda(lambda x: x * 1000.0)\n",
    "])\n",
    "\n",
    "early_stopping = tf.keras.callbacks.EarlyStopping(monitor='val_loss',\n",
    "                                                    patience=10, restore_best_weights=True,\n",
    "                                                    mode='min')\n",
    "\n",
    "lr_schedule = tf.keras.callbacks.LearningRateScheduler(\n",
    "    lambda epoch: 0.1 * 10**(-epoch / 20))\n",
    "\n",
    "lstm_model.compile(loss=tf.keras.losses.MeanSquaredError(),\n",
    "                optimizer=tf.keras.optimizers.Adam(learning_rate = 0.0001),\n",
    "                metrics=[tf.keras.metrics.MeanAbsoluteError()])\n",
    "history = lstm_model.fit(\n",
    "    x=input, y = label, \n",
    "    batch_size=25, \n",
    "    epochs=100, \n",
    "    verbose=1, \n",
    "    callbacks=[early_stopping], \n",
    "    validation_split=0.3,  \n",
    "    shuffle=True, \n",
    "    class_weight=None, \n",
    "    sample_weight=None, \n",
    "    initial_epoch=0, \n",
    "    steps_per_epoch=None, \n",
    "    validation_steps=None)"
   ]
  },
  {
   "cell_type": "code",
   "execution_count": 6,
   "metadata": {},
   "outputs": [
    {
     "name": "stdout",
     "output_type": "stream",
     "text": [
      "Epoch 1/200\n",
      "11/11 [==============================] - 4s 81ms/step - loss: 0.7796 - mean_absolute_error: 0.5361 - val_loss: 2.1480 - val_mean_absolute_error: 1.1479\n",
      "Epoch 2/200\n",
      "11/11 [==============================] - 0s 25ms/step - loss: 0.4512 - mean_absolute_error: 0.4102 - val_loss: 1.2514 - val_mean_absolute_error: 0.9077\n",
      "Epoch 3/200\n",
      "11/11 [==============================] - 0s 22ms/step - loss: 0.4382 - mean_absolute_error: 0.3893 - val_loss: 1.5774 - val_mean_absolute_error: 0.9870\n",
      "Epoch 4/200\n",
      "11/11 [==============================] - 0s 24ms/step - loss: 0.3962 - mean_absolute_error: 0.3707 - val_loss: 1.4411 - val_mean_absolute_error: 0.9567\n",
      "Epoch 5/200\n",
      "11/11 [==============================] - 0s 23ms/step - loss: 0.4076 - mean_absolute_error: 0.3859 - val_loss: 1.4477 - val_mean_absolute_error: 0.9587\n",
      "Epoch 6/200\n",
      "11/11 [==============================] - 0s 22ms/step - loss: 0.4162 - mean_absolute_error: 0.3795 - val_loss: 1.6528 - val_mean_absolute_error: 1.0115\n",
      "Epoch 7/200\n",
      "11/11 [==============================] - 0s 26ms/step - loss: 0.4029 - mean_absolute_error: 0.3802 - val_loss: 1.3685 - val_mean_absolute_error: 0.9394\n"
     ]
    }
   ],
   "source": [
    "import tfm\n",
    "\n",
    "tfm_model = tfm.tsf_model(\n",
    "    input_shape = input.shape[1:],\n",
    "    head_size=64,\n",
    "    num_heads=8,\n",
    "    ff_dim=16,\n",
    "    num_transformer_blocks=4,\n",
    "    mlp_units=[123],\n",
    "    #mlp_dropout=4,\n",
    "    #dropout=2,\n",
    ")\n",
    "\n",
    "tfm_model.compile(\n",
    "    loss=tf.keras.losses.MeanSquaredError(),\n",
    "                optimizer=tf.keras.optimizers.Adam(),\n",
    "                metrics=[tf.keras.metrics.MeanAbsoluteError()]\n",
    ")\n",
    "#model.summary()\n",
    "\n",
    "callbacks = [tf.keras.callbacks.EarlyStopping(monitor='val_loss',\n",
    "                                                    patience=5,restore_best_weights=True,\n",
    "                                                    mode='min')]\n",
    "\n",
    "history = tfm_model.fit(\n",
    "    x = input,\n",
    "    y = label,\n",
    "    validation_split=0.3,\n",
    "    epochs=200,\n",
    "    batch_size=8,\n",
    "    callbacks=callbacks,\n",
    ")"
   ]
  },
  {
   "cell_type": "markdown",
   "metadata": {},
   "source": [
    "##### 测试结果"
   ]
  },
  {
   "cell_type": "code",
   "execution_count": 7,
   "metadata": {},
   "outputs": [],
   "source": [
    "cnn_result = load.get_output(test,model = multi_conv_model)\n",
    "cnn_result.to_csv('./results/cnn.csv')\n",
    "\n",
    "lstm_result = load.get_output(test,model = lstm_model)\n",
    "lstm_result.to_csv('./results/lstm.csv')\n",
    "\n",
    "tfm_result = load.get_output(test,model = tfm_model)\n",
    "tfm_result.to_csv('./results/tfm.csv')"
   ]
  },
  {
   "cell_type": "markdown",
   "metadata": {},
   "source": [
    "##### 预测后302家企业的信用评级与违约概率"
   ]
  },
  {
   "cell_type": "code",
   "execution_count": 10,
   "metadata": {},
   "outputs": [],
   "source": [
    "import load\n",
    "\n",
    "data = load.re_agg(load.get_data(num=302)).drop(['refund_in','refund_out'],axis = 1).fillna(1e-8)\n",
    "input_length = 12\n",
    "label_length = 1\n",
    "total_length = 36\n",
    "batch_size = 302\n",
    "input,test,label = load.get_tesors(data,input_length,label_length,total_length,batch_size)"
   ]
  },
  {
   "cell_type": "code",
   "execution_count": 11,
   "metadata": {},
   "outputs": [],
   "source": [
    "cnn_result = load.get_output(test,model = multi_conv_model)\n",
    "cnn_result.to_csv('./results/cnn.csv')\n",
    "\n",
    "lstm_result = load.get_output(test,model = lstm_model)\n",
    "lstm_result.to_csv('./results/lstm.csv')\n",
    "\n",
    "tfm_result = load.get_output(test,model = tfm_model)\n",
    "tfm_result.to_csv('./results/tfm.csv')"
   ]
  },
  {
   "cell_type": "markdown",
   "metadata": {},
   "source": [
    "##### 确定信贷策略"
   ]
  },
  {
   "cell_type": "code",
   "execution_count": null,
   "metadata": {},
   "outputs": [],
   "source": []
  }
 ],
 "metadata": {
  "kernelspec": {
   "display_name": "Python 3.9.12 ('base')",
   "language": "python",
   "name": "python3"
  },
  "language_info": {
   "codemirror_mode": {
    "name": "ipython",
    "version": 3
   },
   "file_extension": ".py",
   "mimetype": "text/x-python",
   "name": "python",
   "nbconvert_exporter": "python",
   "pygments_lexer": "ipython3",
   "version": "3.9.12"
  },
  "orig_nbformat": 4,
  "vscode": {
   "interpreter": {
    "hash": "230b3ff13fbf17182562d98b6b92d0993293f138d9d821fa36058128ba3119c0"
   }
  }
 },
 "nbformat": 4,
 "nbformat_minor": 2
}
